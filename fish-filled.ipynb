{
 "cells": [
  {
   "cell_type": "code",
   "execution_count": 2,
   "metadata": {
    "id": "7D1nEkTSiQ8G"
   },
   "outputs": [],
   "source": [
    "import numpy as np\n",
    "from PIL import Image, ImageDraw, ImageOps, ImageFont\n",
    "import matplotlib.pyplot as plt"
   ]
  },
  {
   "cell_type": "code",
   "execution_count": 12,
   "metadata": {
    "colab": {
     "base_uri": "https://localhost:8080/"
    },
    "id": "mB7YHHwBfJ7C",
    "outputId": "03c47c1d-b9e8-42b1-eb51-5f879647914d"
   },
   "outputs": [
    {
     "name": "stdout",
     "output_type": "stream",
     "text": [
      "Requirement already satisfied: einops in /Users/peterwhidden/opt/anaconda3/lib/python3.9/site-packages (0.5.0)\r\n"
     ]
    }
   ],
   "source": [
    "!pip install einops"
   ]
  },
  {
   "cell_type": "code",
   "execution_count": 13,
   "metadata": {
    "id": "LOD7kONufM8N"
   },
   "outputs": [],
   "source": [
    "from einops import rearrange"
   ]
  },
  {
   "cell_type": "code",
   "execution_count": 14,
   "metadata": {
    "id": "hZmB-bkqogdM"
   },
   "outputs": [],
   "source": [
    "def empty_cell(dim=32):\n",
    "    base = np.full((dim,dim), 255, dtype=np.uint8)\n",
    "    base[0, :] = 0\n",
    "    base[dim-1, :] = 0\n",
    "    base[dim-1, :] = 0\n",
    "    base[:, 0] = 0\n",
    "    base[:, dim-1] = 0\n",
    "    return base"
   ]
  },
  {
   "cell_type": "code",
   "execution_count": 15,
   "metadata": {
    "colab": {
     "base_uri": "https://localhost:8080/"
    },
    "id": "-9XBx_QJEkUK",
    "outputId": "1cf9bbab-a711-46e7-e54a-2521280cdd85"
   },
   "outputs": [
    {
     "data": {
      "text/plain": [
       "1120.8465574603176"
      ]
     },
     "execution_count": 15,
     "metadata": {},
     "output_type": "execute_result"
    }
   ],
   "source": [
    "\n",
    "(12* 110.333333) / ((11 + 13/16) / 10)"
   ]
  },
  {
   "cell_type": "code",
   "execution_count": 16,
   "metadata": {
    "colab": {
     "base_uri": "https://localhost:8080/",
     "height": 284
    },
    "id": "uVx3gPnYot1O",
    "outputId": "034f92e1-ef7b-46ac-e3d8-29a07ac02fc9"
   },
   "outputs": [
    {
     "data": {
      "text/plain": [
       "<matplotlib.image.AxesImage at 0x7f8e907a5220>"
      ]
     },
     "execution_count": 16,
     "metadata": {},
     "output_type": "execute_result"
    },
    {
     "data": {
      "image/png": "[encoded data removed]",
      "text/plain": [
       "<Figure size 432x288 with 1 Axes>"
      ]
     },
     "metadata": {
      "needs_background": "light"
     },
     "output_type": "display_data"
    }
   ],
   "source": [
    "plt.imshow(empty_cell(33))"
   ]
  },
  {
   "cell_type": "code",
   "execution_count": 17,
   "metadata": {
    "id": "hi2gSZiRoOJ1"
   },
   "outputs": [],
   "source": [
    "def edge_cell(dim=32):\n",
    "    filled = Image.fromarray(np.zeros((dim,dim), dtype=np.uint8))\n",
    "    draw = ImageDraw.Draw(filled)\n",
    "    s = dim\n",
    "    o = 2\n",
    "    stroke = 4\n",
    "    ss = dim - stroke\n",
    "    draw.ellipse( (0+o, 0+o, s-o, s-o), fill=(255,), outline=(0,))\n",
    "    draw.ellipse( (0+o+stroke, 0+o+stroke, ss-o, ss-o), fill=(0,), outline=(0,))\n",
    "    del draw\n",
    "    return filled"
   ]
  },
  {
   "cell_type": "code",
   "execution_count": 18,
   "metadata": {
    "colab": {
     "base_uri": "https://localhost:8080/",
     "height": 284
    },
    "id": "T47wdhs2p868",
    "outputId": "9fb4745b-7e2b-4f72-c2a1-36cf96ca628e"
   },
   "outputs": [
    {
     "data": {
      "text/plain": [
       "<matplotlib.image.AxesImage at 0x7f8e906f8c40>"
      ]
     },
     "execution_count": 18,
     "metadata": {},
     "output_type": "execute_result"
    },
    {
     "data": {
      "image/png": "[encoded data removed]",
      "text/plain": [
       "<Figure size 432x288 with 1 Axes>"
      ]
     },
     "metadata": {
      "needs_background": "light"
     },
     "output_type": "display_data"
    }
   ],
   "source": [
    "plt.imshow(edge_cell(33))"
   ]
  },
  {
   "cell_type": "code",
   "execution_count": 19,
   "metadata": {
    "id": "BhoUAZivexp9"
   },
   "outputs": [],
   "source": [
    "img = Image.open(\"mask_v2_fill.png\")\n",
    "im = np.array(img)[:, 1:] # np.array(img)"
   ]
  },
  {
   "cell_type": "code",
   "execution_count": 20,
   "metadata": {
    "colab": {
     "base_uri": "https://localhost:8080/",
     "height": 287
    },
    "id": "miZ3L0r1e-Au",
    "outputId": "665390af-6f4e-4805-8d66-4693e4ae3503"
   },
   "outputs": [
    {
     "data": {
      "text/plain": [
       "<matplotlib.image.AxesImage at 0x7f8e4035c8b0>"
      ]
     },
     "execution_count": 20,
     "metadata": {},
     "output_type": "execute_result"
    },
    {
     "data": {
      "image/png": "[encoded data removed]",
      "text/plain": [
       "<Figure size 432x288 with 1 Axes>"
      ]
     },
     "metadata": {
      "needs_background": "light"
     },
     "output_type": "display_data"
    }
   ],
   "source": [
    "plt.imshow(im)"
   ]
  },
  {
   "cell_type": "code",
   "execution_count": 46,
   "metadata": {
    "colab": {
     "base_uri": "https://localhost:8080/"
    },
    "id": "AM9x6p30e_GR",
    "outputId": "534b45aa-4180-4b46-af04-f38b162cff3d"
   },
   "outputs": [
    {
     "data": {
      "text/plain": [
       "(814, 1043, 4)"
      ]
     },
     "execution_count": 46,
     "metadata": {},
     "output_type": "execute_result"
    }
   ],
   "source": [
    "im.shape"
   ]
  },
  {
   "cell_type": "code",
   "execution_count": 61,
   "metadata": {
    "colab": {
     "base_uri": "https://localhost:8080/"
    },
    "id": "rqYAMLztiSoM",
    "outputId": "a5d6ac0d-5c6a-4d1c-b7e8-492c1db16c6a"
   },
   "outputs": [
    {
     "data": {
      "text/plain": [
       "(810, 1040)"
      ]
     },
     "execution_count": 61,
     "metadata": {},
     "output_type": "execute_result"
    }
   ],
   "source": [
    "ims = np.array(im[:810, :1040, 3])\n",
    "inner_fill = np.array(im[:810, :1040, 0])\n",
    "ims.shape"
   ]
  },
  {
   "cell_type": "code",
   "execution_count": 62,
   "metadata": {
    "id": "u_LpVnruroci"
   },
   "outputs": [],
   "source": [
    "tile_size = 10"
   ]
  },
  {
   "cell_type": "code",
   "execution_count": 63,
   "metadata": {
    "id": "Zg7a8MFjfGt9"
   },
   "outputs": [],
   "source": [
    "chunked = rearrange(ims, \"(i x) (j y) -> i j x y \", x=tile_size, y=tile_size)\n",
    "chunked_inner_fill = rearrange(inner_fill, \"(i x) (j y) -> i j x y \", x=tile_size, y=tile_size)"
   ]
  },
  {
   "cell_type": "code",
   "execution_count": 64,
   "metadata": {
    "colab": {
     "base_uri": "https://localhost:8080/"
    },
    "id": "Q0GvpoA4mXaT",
    "outputId": "ce0ddb15-fb09-464d-9b5f-ed933fe452a2"
   },
   "outputs": [
    {
     "data": {
      "text/plain": [
       "(81, 104, 10, 10)"
      ]
     },
     "execution_count": 64,
     "metadata": {},
     "output_type": "execute_result"
    }
   ],
   "source": [
    "chunked.shape"
   ]
  },
  {
   "cell_type": "code",
   "execution_count": 65,
   "metadata": {
    "colab": {
     "base_uri": "https://localhost:8080/",
     "height": 283
    },
    "id": "Zq3SA12bmfmA",
    "outputId": "f49aae12-513d-47f2-c8e8-1d0b5ac28e04"
   },
   "outputs": [
    {
     "data": {
      "text/plain": [
       "<matplotlib.image.AxesImage at 0x7f8e500fd580>"
      ]
     },
     "execution_count": 65,
     "metadata": {},
     "output_type": "execute_result"
    },
    {
     "data": {
      "image/png": "[encoded data removed]",
      "text/plain": [
       "<Figure size 432x288 with 1 Axes>"
      ]
     },
     "metadata": {
      "needs_background": "light"
     },
     "output_type": "display_data"
    }
   ],
   "source": [
    "plt.imshow(chunked[40,50])"
   ]
  },
  {
   "cell_type": "code",
   "execution_count": 74,
   "metadata": {},
   "outputs": [
    {
     "data": {
      "text/plain": [
       "array([[255, 255, 255,   0,   0,   0,   0,   0,   0,   0],\n",
       "       [255, 255, 255,   0,   0,   0,   0,   0,   0,   0],\n",
       "       [255, 255, 255, 200,   0,   0,   0,   0,   0,   0],\n",
       "       [255, 255, 255, 244,   0,   0,   0,   0,   0,   0],\n",
       "       [255, 255, 255, 254,   0,   0,   0,   0,   0,   0],\n",
       "       [255, 255, 255, 255, 239,   0,   0,   0,   0,   0],\n",
       "       [255, 255, 255, 255, 255, 201,   0,   0,   0,   0],\n",
       "       [255, 255, 255, 255, 255, 254, 211,   0,   0,   0],\n",
       "       [255, 255, 255, 255, 255, 255, 255, 248, 241, 210],\n",
       "       [255, 255, 255, 255, 255, 255, 255, 255, 255, 255]], dtype=uint8)"
      ]
     },
     "execution_count": 74,
     "metadata": {},
     "output_type": "execute_result"
    }
   ],
   "source": [
    "chunked[40,50]"
   ]
  },
  {
   "cell_type": "code",
   "execution_count": 80,
   "metadata": {
    "id": "1QONnGDPsEUZ"
   },
   "outputs": [],
   "source": [
    "thres = 20 # 128\n",
    "tcif = (chunked_inner_fill > thres)\n",
    "tif = (inner_fill > thres)\n",
    "\n",
    "threshed_chunks_inner_fill = tcif.astype(np.uint8)\n",
    "threshed_chunks = np.logical_and((chunked > thres), np.logical_not(tcif)).astype(np.uint8)\n",
    "\n",
    "threshed_inner_fill = tif.astype(np.uint8)\n",
    "threshed = np.logical_and((ims > thres), np.logical_not(tif)).astype(np.uint8)\n"
   ]
  },
  {
   "cell_type": "code",
   "execution_count": null,
   "metadata": {},
   "outputs": [],
   "source": []
  },
  {
   "cell_type": "code",
   "execution_count": 81,
   "metadata": {
    "colab": {
     "base_uri": "https://localhost:8080/"
    },
    "id": "OZgEtaqa7jNi",
    "outputId": "84b34902-de15-4dce-f106-b418a047e94c"
   },
   "outputs": [
    {
     "data": {
      "text/plain": [
       "(81, 104, 10, 10)"
      ]
     },
     "execution_count": 81,
     "metadata": {},
     "output_type": "execute_result"
    }
   ],
   "source": [
    "threshed_chunks.shape"
   ]
  },
  {
   "cell_type": "code",
   "execution_count": 82,
   "metadata": {
    "colab": {
     "base_uri": "https://localhost:8080/",
     "height": 283
    },
    "id": "k9sux_PD8NXo",
    "outputId": "d5f7228a-5212-41f9-af35-4e3d439974a1"
   },
   "outputs": [
    {
     "data": {
      "text/plain": [
       "<matplotlib.image.AxesImage at 0x7f8e185cbbb0>"
      ]
     },
     "execution_count": 82,
     "metadata": {},
     "output_type": "execute_result"
    },
    {
     "data": {
      "image/png": "[encoded data removed]",
      "text/plain": [
       "<Figure size 432x288 with 1 Axes>"
      ]
     },
     "metadata": {
      "needs_background": "light"
     },
     "output_type": "display_data"
    }
   ],
   "source": [
    "plt.imshow(np.array(threshed_chunks[20,5]))"
   ]
  },
  {
   "cell_type": "code",
   "execution_count": 83,
   "metadata": {
    "id": "xCwr2iaAssra"
   },
   "outputs": [],
   "source": [
    "size = 33\n",
    "empty_c = np.array(empty_cell(size), dtype=np.uint8)\n",
    "full_c = np.array(edge_cell(size), dtype=np.uint8)"
   ]
  },
  {
   "cell_type": "code",
   "execution_count": 84,
   "metadata": {
    "id": "op0PXiMiJpt4"
   },
   "outputs": [],
   "source": [
    "font = ImageFont.truetype(\"MaisonNeue-Demi.otf\", 90, encoding=\"unic\")"
   ]
  },
  {
   "cell_type": "code",
   "execution_count": 85,
   "metadata": {
    "colab": {
     "base_uri": "https://localhost:8080/"
    },
    "id": "ZGvU4LXDsVmI",
    "outputId": "014dffa9-b733-4c9c-b672-c1e584f94ea8"
   },
   "outputs": [
    {
     "data": {
      "text/plain": [
       "2876"
      ]
     },
     "execution_count": 85,
     "metadata": {},
     "output_type": "execute_result"
    }
   ],
   "source": [
    "cells = []\n",
    "empty_tiles = np.tile(empty_c, (tile_size, tile_size))\n",
    "id = 0\n",
    "for j, col in enumerate(threshed_chunks):\n",
    "    for i, cell in enumerate(col):\n",
    "        s = cell.sum()\n",
    "        if s > 0:\n",
    "            render = empty_tiles - np.kron(cell, full_c)\n",
    "            img = Image.fromarray(np.ones_like(render)*255)\n",
    "            draw = ImageDraw.Draw(img)\n",
    "            draw.text((size*5-100, 10), f\"id:{id}\", \n",
    "              fill=(0), font=font, spacing=0, align=\"left\")\n",
    "            draw.text((size*5-100, 110), f\"x:{i}\", \n",
    "              fill=(0), font=font, spacing=0, align=\"left\")\n",
    "            draw.text((size*5-100, 210), f\"y:{j}\", \n",
    "              fill=(0), font=font, spacing=0, align=\"left\")\n",
    "            label_render = np.array(img)\n",
    "            del draw\n",
    "            cells.append({\"x\": i, \"y\": j, \"id\": id, \"render\": render, \n",
    "                          \"label_render\": label_render, \"cells\": cell})\n",
    "            id += 1\n",
    "len(cells)"
   ]
  },
  {
   "cell_type": "code",
   "execution_count": 86,
   "metadata": {
    "colab": {
     "base_uri": "https://localhost:8080/",
     "height": 287
    },
    "id": "bgxYq3jONT2U",
    "outputId": "2f868a67-5d04-4c7d-cffc-fe969d61c997"
   },
   "outputs": [
    {
     "data": {
      "text/plain": [
       "<matplotlib.image.AxesImage at 0x7f8e482c5220>"
      ]
     },
     "execution_count": 86,
     "metadata": {},
     "output_type": "execute_result"
    },
    {
     "data": {
      "image/png": "[encoded data removed]",
      "text/plain": [
       "<Figure size 432x288 with 1 Axes>"
      ]
     },
     "metadata": {
      "needs_background": "light"
     },
     "output_type": "display_data"
    }
   ],
   "source": [
    "plt.imshow(cells[0][\"label_render\"])"
   ]
  },
  {
   "cell_type": "code",
   "execution_count": 87,
   "metadata": {
    "id": "VrmXayE3-o92"
   },
   "outputs": [],
   "source": [
    "fs = threshed_chunks.shape\n",
    "sc = tile_size*size\n",
    "full = np.full((fs[0]*sc,fs[1]*sc), 255, dtype=np.uint8)\n",
    " \n",
    "for y in range(fs[0]):\n",
    "  full[max(y*sc-1,0):y*sc+1, :] = 0\n",
    "for x in range(fs[1]):\n",
    "  full[:, max(x*sc-1,0):x*sc+1] = 0"
   ]
  },
  {
   "cell_type": "code",
   "execution_count": 88,
   "metadata": {
    "id": "6GykFNQrEl_m"
   },
   "outputs": [],
   "source": [
    "for cell in cells:\n",
    "  full[cell[\"y\"]*sc:(cell[\"y\"]+1)*sc, cell[\"x\"]*sc:(cell[\"x\"]+1)*sc] = cell[\"render\"]"
   ]
  },
  {
   "cell_type": "code",
   "execution_count": 89,
   "metadata": {
    "id": "NtcWqgmqQ_Yu"
   },
   "outputs": [],
   "source": [
    "for y in range(0, fs[0], 2):\n",
    "  full[max(y*sc-1,0):(y+1)*sc+1, :] -= np.minimum(12, full[max(y*sc-1,0):(y+1)*sc+1, :])\n",
    "for x in range(0, fs[1], 2):\n",
    "  full[:, max(x*sc-1,0):(x+1)*sc+1] -= np.minimum(12, full[:, max(x*sc-1,0):(x+1)*sc+1])\n",
    "\n",
    "for y in range(0, fs[0], 10):\n",
    "  full[max(y*sc-1,0):(y+1)*sc+1, :] -= np.minimum(12, full[max(y*sc-1,0):(y+1)*sc+1, :])\n",
    "for x in range(0, fs[1], 10):\n",
    "  full[:, max(x*sc-1,0):(x+1)*sc+1] -= np.minimum(12, full[:, max(x*sc-1,0):(x+1)*sc+1])"
   ]
  },
  {
   "cell_type": "code",
   "execution_count": 90,
   "metadata": {},
   "outputs": [],
   "source": [
    "labels_full = np.full((fs[0]*sc,fs[1]*sc), 255, dtype=np.uint8)\n",
    "for cell in cells:\n",
    "    labels_full[cell[\"y\"]*sc:(cell[\"y\"]+1)*sc, cell[\"x\"]*sc:(cell[\"x\"]+1)*sc] = cell[\"label_render\"]"
   ]
  },
  {
   "cell_type": "code",
   "execution_count": 91,
   "metadata": {},
   "outputs": [],
   "source": [
    "labels_full_img = Image.fromarray(labels_full)\n",
    "labels_full_img.save(\"fish/labels_full_fish.jpg\")"
   ]
  },
  {
   "cell_type": "code",
   "execution_count": 92,
   "metadata": {
    "id": "jPQCEXyYG6yD"
   },
   "outputs": [],
   "source": [
    "full_img = Image.fromarray(full)"
   ]
  },
  {
   "cell_type": "code",
   "execution_count": 93,
   "metadata": {
    "id": "zza8PpZfP8Dw"
   },
   "outputs": [],
   "source": [
    "font_large = ImageFont.truetype(\"MaisonNeue-Mono.otf\", 192, encoding=\"unic\")"
   ]
  },
  {
   "cell_type": "code",
   "execution_count": 94,
   "metadata": {
    "id": "_sqFisH8IqLF"
   },
   "outputs": [],
   "source": [
    "draw = ImageDraw.Draw(full_img)\n",
    "for y in range(1, fs[0]-1):\n",
    "  draw.text((60, y*sc+30), f\"{y}\", \n",
    "    fill=(0), font=font_large, align=\"left\")\n",
    "  draw.text((full.shape[1]-sc+40, y*sc+40), f\"{y}\", \n",
    "    fill=(0), font=font_large, align=\"left\")\n",
    "for x in range(1, fs[1]-1):\n",
    "  draw.text((x*sc+40, 60), f\"{x}\",\n",
    "    fill=(0), font=font_large, align=\"left\")\n",
    "  draw.text((x*sc+40, full.shape[0]-sc+40), f\"{x}\", \n",
    "    fill=(0), font=font_large, align=\"left\")\n",
    "del draw\n"
   ]
  },
  {
   "cell_type": "code",
   "execution_count": 95,
   "metadata": {
    "id": "7sk4f1K-D1k3"
   },
   "outputs": [],
   "source": [
    "!mkdir -p fish/tiles"
   ]
  },
  {
   "cell_type": "code",
   "execution_count": 96,
   "metadata": {
    "id": "3SresmVx_4po"
   },
   "outputs": [],
   "source": [
    "full_img.save(\"fish/full_fish.jpg\")"
   ]
  },
  {
   "cell_type": "code",
   "execution_count": 97,
   "metadata": {},
   "outputs": [
    {
     "data": {
      "text/plain": [
       "array([[255, 255, 255, ..., 255, 255, 255],\n",
       "       [255, 255, 255, ..., 255, 255, 255],\n",
       "       [255, 255, 255, ..., 255, 255, 255],\n",
       "       ...,\n",
       "       [255, 255, 255, ..., 255, 255, 255],\n",
       "       [255, 255, 255, ..., 255, 255, 255],\n",
       "       [255, 255, 255, ..., 255, 255, 255]], dtype=uint8)"
      ]
     },
     "execution_count": 97,
     "metadata": {},
     "output_type": "execute_result"
    }
   ],
   "source": [
    "np.zeros((full.shape[0], full.shape[1], 4)).shape\n",
    "labels_full"
   ]
  },
  {
   "cell_type": "code",
   "execution_count": 98,
   "metadata": {},
   "outputs": [],
   "source": [
    "font_sm = ImageFont.truetype(\"MaisonNeue-Demi.otf\", 40, encoding=\"unic\")"
   ]
  },
  {
   "cell_type": "code",
   "execution_count": 99,
   "metadata": {
    "id": "Fs-yi6WIwyIR"
   },
   "outputs": [],
   "source": [
    "for idx, cell in enumerate(cells):\n",
    "  tile = np.full((sc+100, sc+100), 255, dtype=np.uint8)\n",
    "  tile[80:80+sc, 80:80+sc] = cell[\"render\"]\n",
    "  img = Image.fromarray(tile)\n",
    "  draw = ImageDraw.Draw(img)\n",
    "  draw.text((15, 15), f\"id:{cell['id']} x:{cell['x']} y:{cell['y']}\", \n",
    "    fill=(0), font=font_sm, spacing=0, align=\"left\")\n",
    "  del draw\n",
    "  num = str(idx).zfill(4)\n",
    "  img.save(f\"fish/tiles/tile_{num}.jpg\")"
   ]
  },
  {
   "cell_type": "code",
   "execution_count": 100,
   "metadata": {
    "colab": {
     "base_uri": "https://localhost:8080/",
     "height": 287
    },
    "id": "bkFhpWHqPsZg",
    "outputId": "ced9fb87-da2c-4767-c0eb-5e8749d559ed"
   },
   "outputs": [
    {
     "data": {
      "text/plain": [
       "<matplotlib.image.AxesImage at 0x7f8e2f16a1f0>"
      ]
     },
     "execution_count": 100,
     "metadata": {},
     "output_type": "execute_result"
    },
    {
     "data": {
      "image/png": "[encoded data removed]",
      "text/plain": [
       "<Figure size 432x288 with 1 Axes>"
      ]
     },
     "metadata": {
      "needs_background": "light"
     },
     "output_type": "display_data"
    }
   ],
   "source": [
    "plt.imshow(img)"
   ]
  },
  {
   "cell_type": "code",
   "execution_count": 140,
   "metadata": {
    "id": "ITrp17uRCWwn"
   },
   "outputs": [],
   "source": [
    "#!rm fish.zip\n",
    "#!zip -rq fish.zip fish\n",
    "#!rm -r fish\n",
    "#!du -h fish.zip"
   ]
  },
  {
   "cell_type": "code",
   "execution_count": null,
   "metadata": {
    "colab": {
     "base_uri": "https://localhost:8080/"
    },
    "id": "LaTQulSqRHWw",
    "outputId": "f324ccf5-fe59-4920-d7b7-31a3ddf23cec"
   },
   "outputs": [],
   "source": []
  },
  {
   "cell_type": "code",
   "execution_count": null,
   "metadata": {
    "id": "1ZhIN7OyJShm"
   },
   "outputs": [],
   "source": []
  },
  {
   "cell_type": "code",
   "execution_count": null,
   "metadata": {
    "id": "Zk99QX_tJckd"
   },
   "outputs": [],
   "source": []
  }
 ],
 "metadata": {
  "colab": {
   "collapsed_sections": [],
   "provenance": []
  },
  "kernelspec": {
   "display_name": "Python 3 (ipykernel)",
   "language": "python",
   "name": "python3"
  },
  "language_info": {
   "codemirror_mode": {
    "name": "ipython",
    "version": 3
   },
   "file_extension": ".py",
   "mimetype": "text/x-python",
   "name": "python",
   "nbconvert_exporter": "python",
   "pygments_lexer": "ipython3",
   "version": "3.9.12"
  }
 },
 "nbformat": 4,
 "nbformat_minor": 1
}
