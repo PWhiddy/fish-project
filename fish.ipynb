{
 "cells": [
  {
   "cell_type": "code",
   "execution_count": 2,
   "metadata": {
    "id": "7D1nEkTSiQ8G"
   },
   "outputs": [],
   "source": [
    "import numpy as np\n",
    "from PIL import Image, ImageDraw, ImageOps, ImageFont\n",
    "import matplotlib.pyplot as plt"
   ]
  },
  {
   "cell_type": "code",
   "execution_count": 3,
   "metadata": {
    "colab": {
     "base_uri": "https://localhost:8080/"
    },
    "id": "mB7YHHwBfJ7C",
    "outputId": "03c47c1d-b9e8-42b1-eb51-5f879647914d"
   },
   "outputs": [
    {
     "name": "stdout",
     "output_type": "stream",
     "text": [
      "Collecting einops\n",
      "  Downloading einops-0.5.0-py3-none-any.whl (36 kB)\n",
      "Installing collected packages: einops\n",
      "Successfully installed einops-0.5.0\n"
     ]
    }
   ],
   "source": [
    "!pip install einops"
   ]
  },
  {
   "cell_type": "code",
   "execution_count": 237,
   "metadata": {
    "id": "LOD7kONufM8N"
   },
   "outputs": [],
   "source": [
    "from einops import rearrange"
   ]
  },
  {
   "cell_type": "code",
   "execution_count": 238,
   "metadata": {
    "id": "hZmB-bkqogdM"
   },
   "outputs": [],
   "source": [
    "def empty_cell(dim=32):\n",
    "    base = np.full((dim,dim), 255, dtype=np.uint8)\n",
    "    base[0, :] = 0\n",
    "    base[dim-1, :] = 0\n",
    "    base[dim-1, :] = 0\n",
    "    base[:, 0] = 0\n",
    "    base[:, dim-1] = 0\n",
    "    return base"
   ]
  },
  {
   "cell_type": "code",
   "execution_count": 239,
   "metadata": {
    "colab": {
     "base_uri": "https://localhost:8080/"
    },
    "id": "-9XBx_QJEkUK",
    "outputId": "1cf9bbab-a711-46e7-e54a-2521280cdd85"
   },
   "outputs": [
    {
     "data": {
      "text/plain": [
       "1120.8465574603176"
      ]
     },
     "execution_count": 239,
     "metadata": {},
     "output_type": "execute_result"
    }
   ],
   "source": [
    "\n",
    "(12* 110.333333) / ((11 + 13/16) / 10)"
   ]
  },
  {
   "cell_type": "code",
   "execution_count": 240,
   "metadata": {
    "colab": {
     "base_uri": "https://localhost:8080/",
     "height": 284
    },
    "id": "uVx3gPnYot1O",
    "outputId": "034f92e1-ef7b-46ac-e3d8-29a07ac02fc9"
   },
   "outputs": [
    {
     "data": {
      "text/plain": [
       "<matplotlib.image.AxesImage at 0x7f8c12f91370>"
      ]
     },
     "execution_count": 240,
     "metadata": {},
     "output_type": "execute_result"
    },
    {
     "data": {
      "image/png": "[encoded data removed]",
      "text/plain": [
       "<Figure size 432x288 with 1 Axes>"
      ]
     },
     "metadata": {
      "needs_background": "light"
     },
     "output_type": "display_data"
    }
   ],
   "source": [
    "plt.imshow(empty_cell(33))"
   ]
  },
  {
   "cell_type": "code",
   "execution_count": 241,
   "metadata": {
    "id": "hi2gSZiRoOJ1"
   },
   "outputs": [],
   "source": [
    "def full_cell(dim=32):\n",
    "    filled = Image.fromarray(np.zeros((dim,dim), dtype=np.uint8))\n",
    "    draw = ImageDraw.Draw(filled)\n",
    "    s = dim\n",
    "    o = 2\n",
    "    stroke = 4\n",
    "    ss = dim - stroke\n",
    "    draw.ellipse( (0+o, 0+o, s-o, s-o), fill=(255,), outline=(0,))\n",
    "    draw.ellipse( (0+o+stroke, 0+o+stroke, ss-o, ss-o), fill=(0,), outline=(0,))\n",
    "    del draw\n",
    "    return filled"
   ]
  },
  {
   "cell_type": "code",
   "execution_count": 242,
   "metadata": {
    "colab": {
     "base_uri": "https://localhost:8080/",
     "height": 284
    },
    "id": "T47wdhs2p868",
    "outputId": "9fb4745b-7e2b-4f72-c2a1-36cf96ca628e"
   },
   "outputs": [
    {
     "data": {
      "text/plain": [
       "<matplotlib.image.AxesImage at 0x7f8ba18c4f70>"
      ]
     },
     "execution_count": 242,
     "metadata": {},
     "output_type": "execute_result"
    },
    {
     "data": {
      "image/png": "[encoded data removed]",
      "text/plain": [
       "<Figure size 432x288 with 1 Axes>"
      ]
     },
     "metadata": {
      "needs_background": "light"
     },
     "output_type": "display_data"
    }
   ],
   "source": [
    "plt.imshow(full_cell(33))"
   ]
  },
  {
   "cell_type": "code",
   "execution_count": 243,
   "metadata": {
    "id": "BhoUAZivexp9"
   },
   "outputs": [],
   "source": [
    "img = Image.open(\"mask1.png\")\n",
    "im = np.array(img)"
   ]
  },
  {
   "cell_type": "code",
   "execution_count": 244,
   "metadata": {
    "colab": {
     "base_uri": "https://localhost:8080/",
     "height": 287
    },
    "id": "miZ3L0r1e-Au",
    "outputId": "665390af-6f4e-4805-8d66-4693e4ae3503"
   },
   "outputs": [
    {
     "data": {
      "text/plain": [
       "<matplotlib.image.AxesImage at 0x7f8ba184faf0>"
      ]
     },
     "execution_count": 244,
     "metadata": {},
     "output_type": "execute_result"
    },
    {
     "data": {
      "image/png": "[encoded data removed]",
      "text/plain": [
       "<Figure size 432x288 with 1 Axes>"
      ]
     },
     "metadata": {
      "needs_background": "light"
     },
     "output_type": "display_data"
    }
   ],
   "source": [
    "plt.imshow(im)"
   ]
  },
  {
   "cell_type": "code",
   "execution_count": 245,
   "metadata": {
    "colab": {
     "base_uri": "https://localhost:8080/"
    },
    "id": "AM9x6p30e_GR",
    "outputId": "534b45aa-4180-4b46-af04-f38b162cff3d"
   },
   "outputs": [
    {
     "data": {
      "text/plain": [
       "(873, 1120, 4)"
      ]
     },
     "execution_count": 245,
     "metadata": {},
     "output_type": "execute_result"
    }
   ],
   "source": [
    "im.shape"
   ]
  },
  {
   "cell_type": "code",
   "execution_count": 246,
   "metadata": {
    "colab": {
     "base_uri": "https://localhost:8080/"
    },
    "id": "rqYAMLztiSoM",
    "outputId": "a5d6ac0d-5c6a-4d1c-b7e8-492c1db16c6a"
   },
   "outputs": [
    {
     "data": {
      "text/plain": [
       "(870, 1120)"
      ]
     },
     "execution_count": 246,
     "metadata": {},
     "output_type": "execute_result"
    }
   ],
   "source": [
    "ims = np.array(im[:870, :, 3])\n",
    "ims.shape"
   ]
  },
  {
   "cell_type": "code",
   "execution_count": 247,
   "metadata": {
    "id": "u_LpVnruroci"
   },
   "outputs": [],
   "source": [
    "tile_size = 10"
   ]
  },
  {
   "cell_type": "code",
   "execution_count": 248,
   "metadata": {
    "id": "Zg7a8MFjfGt9"
   },
   "outputs": [],
   "source": [
    "chunked = rearrange(ims, \"(i x) (j y) -> i j x y \", x=tile_size, y=tile_size)"
   ]
  },
  {
   "cell_type": "code",
   "execution_count": 249,
   "metadata": {
    "colab": {
     "base_uri": "https://localhost:8080/"
    },
    "id": "Q0GvpoA4mXaT",
    "outputId": "ce0ddb15-fb09-464d-9b5f-ed933fe452a2"
   },
   "outputs": [
    {
     "data": {
      "text/plain": [
       "(87, 112, 10, 10)"
      ]
     },
     "execution_count": 249,
     "metadata": {},
     "output_type": "execute_result"
    }
   ],
   "source": [
    "chunked.shape"
   ]
  },
  {
   "cell_type": "code",
   "execution_count": 250,
   "metadata": {
    "colab": {
     "base_uri": "https://localhost:8080/",
     "height": 283
    },
    "id": "Zq3SA12bmfmA",
    "outputId": "f49aae12-513d-47f2-c8e8-1d0b5ac28e04"
   },
   "outputs": [
    {
     "data": {
      "text/plain": [
       "<matplotlib.image.AxesImage at 0x7f8c130e2d90>"
      ]
     },
     "execution_count": 250,
     "metadata": {},
     "output_type": "execute_result"
    },
    {
     "data": {
      "image/png": "[encoded data removed]",
      "text/plain": [
       "<Figure size 432x288 with 1 Axes>"
      ]
     },
     "metadata": {
      "needs_background": "light"
     },
     "output_type": "display_data"
    }
   ],
   "source": [
    "plt.imshow(chunked[20,5])"
   ]
  },
  {
   "cell_type": "code",
   "execution_count": 251,
   "metadata": {
    "id": "1QONnGDPsEUZ"
   },
   "outputs": [],
   "source": [
    "threshed_chunks = (chunked > 128).astype(np.uint8)\n",
    "threshed = (ims > 128).astype(np.uint8)"
   ]
  },
  {
   "cell_type": "code",
   "execution_count": 252,
   "metadata": {
    "colab": {
     "base_uri": "https://localhost:8080/"
    },
    "id": "OZgEtaqa7jNi",
    "outputId": "84b34902-de15-4dce-f106-b418a047e94c"
   },
   "outputs": [
    {
     "data": {
      "text/plain": [
       "(87, 112, 10, 10)"
      ]
     },
     "execution_count": 252,
     "metadata": {},
     "output_type": "execute_result"
    }
   ],
   "source": [
    "threshed_chunks.shape"
   ]
  },
  {
   "cell_type": "code",
   "execution_count": 253,
   "metadata": {
    "colab": {
     "base_uri": "https://localhost:8080/",
     "height": 283
    },
    "id": "k9sux_PD8NXo",
    "outputId": "d5f7228a-5212-41f9-af35-4e3d439974a1"
   },
   "outputs": [
    {
     "data": {
      "text/plain": [
       "<matplotlib.image.AxesImage at 0x7f8c30383fd0>"
      ]
     },
     "execution_count": 253,
     "metadata": {},
     "output_type": "execute_result"
    },
    {
     "data": {
      "image/png": "[encoded data removed]",
      "text/plain": [
       "<Figure size 432x288 with 1 Axes>"
      ]
     },
     "metadata": {
      "needs_background": "light"
     },
     "output_type": "display_data"
    }
   ],
   "source": [
    "plt.imshow(np.array(threshed_chunks[20,5]))"
   ]
  },
  {
   "cell_type": "code",
   "execution_count": 254,
   "metadata": {
    "id": "xCwr2iaAssra"
   },
   "outputs": [],
   "source": [
    "size = 33\n",
    "empty_c = np.array(empty_cell(size), dtype=np.uint8)\n",
    "full_c = np.array(full_cell(size), dtype=np.uint8)"
   ]
  },
  {
   "cell_type": "code",
   "execution_count": 255,
   "metadata": {
    "id": "op0PXiMiJpt4"
   },
   "outputs": [],
   "source": [
    "font = ImageFont.truetype(\"MaisonNeue-Demi.otf\", 90, encoding=\"unic\")"
   ]
  },
  {
   "cell_type": "code",
   "execution_count": 256,
   "metadata": {
    "colab": {
     "base_uri": "https://localhost:8080/"
    },
    "id": "ZGvU4LXDsVmI",
    "outputId": "014dffa9-b733-4c9c-b672-c1e584f94ea8"
   },
   "outputs": [
    {
     "data": {
      "text/plain": [
       "602"
      ]
     },
     "execution_count": 256,
     "metadata": {},
     "output_type": "execute_result"
    }
   ],
   "source": [
    "cells = []\n",
    "empty_tiles = np.tile(empty_c, (tile_size, tile_size))\n",
    "id = 0\n",
    "for j, col in enumerate(threshed_chunks):\n",
    "    for i, cell in enumerate(col):\n",
    "        s = cell.sum()\n",
    "        if s > 0:\n",
    "            render = empty_tiles - np.kron(cell, full_c)\n",
    "            img = Image.fromarray(np.ones_like(render)*255)\n",
    "            draw = ImageDraw.Draw(img)\n",
    "            draw.text((size*5-100, 10), f\"id:{id}\", \n",
    "              fill=(0), font=font, spacing=0, align=\"left\")\n",
    "            draw.text((size*5-100, 110), f\"x:{i}\", \n",
    "              fill=(0), font=font, spacing=0, align=\"left\")\n",
    "            draw.text((size*5-100, 210), f\"y:{j}\", \n",
    "              fill=(0), font=font, spacing=0, align=\"left\")\n",
    "            label_render = np.array(img)\n",
    "            del draw\n",
    "            cells.append({\"x\": i, \"y\": j, \"id\": id, \"render\": render, \n",
    "                          \"label_render\": label_render, \"cells\": cell})\n",
    "            id += 1\n",
    "len(cells)"
   ]
  },
  {
   "cell_type": "code",
   "execution_count": 257,
   "metadata": {
    "colab": {
     "base_uri": "https://localhost:8080/",
     "height": 287
    },
    "id": "bgxYq3jONT2U",
    "outputId": "2f868a67-5d04-4c7d-cffc-fe969d61c997"
   },
   "outputs": [
    {
     "data": {
      "text/plain": [
       "<matplotlib.image.AxesImage at 0x7f8c131205e0>"
      ]
     },
     "execution_count": 257,
     "metadata": {},
     "output_type": "execute_result"
    },
    {
     "data": {
      "image/png": "[encoded data removed]",
      "text/plain": [
       "<Figure size 432x288 with 1 Axes>"
      ]
     },
     "metadata": {
      "needs_background": "light"
     },
     "output_type": "display_data"
    }
   ],
   "source": [
    "plt.imshow(cells[0][\"label_render\"])"
   ]
  },
  {
   "cell_type": "code",
   "execution_count": 258,
   "metadata": {
    "id": "VrmXayE3-o92"
   },
   "outputs": [],
   "source": [
    "fs = threshed_chunks.shape\n",
    "sc = tile_size*size\n",
    "full = np.full((fs[0]*sc,fs[1]*sc), 255, dtype=np.uint8)\n",
    " \n",
    "for y in range(fs[0]):\n",
    "  full[max(y*sc-1,0):y*sc+1, :] = 0\n",
    "for x in range(fs[1]):\n",
    "  full[:, max(x*sc-1,0):x*sc+1] = 0"
   ]
  },
  {
   "cell_type": "code",
   "execution_count": 259,
   "metadata": {
    "id": "6GykFNQrEl_m"
   },
   "outputs": [],
   "source": [
    "for cell in cells:\n",
    "  full[cell[\"y\"]*sc:(cell[\"y\"]+1)*sc, cell[\"x\"]*sc:(cell[\"x\"]+1)*sc] = cell[\"render\"]"
   ]
  },
  {
   "cell_type": "code",
   "execution_count": 260,
   "metadata": {
    "id": "NtcWqgmqQ_Yu"
   },
   "outputs": [],
   "source": [
    "for y in range(0, fs[0], 2):\n",
    "  full[max(y*sc-1,0):(y+1)*sc+1, :] -= np.minimum(12, full[max(y*sc-1,0):(y+1)*sc+1, :])\n",
    "for x in range(0, fs[1], 2):\n",
    "  full[:, max(x*sc-1,0):(x+1)*sc+1] -= np.minimum(12, full[:, max(x*sc-1,0):(x+1)*sc+1])\n",
    "\n",
    "for y in range(0, fs[0], 10):\n",
    "  full[max(y*sc-1,0):(y+1)*sc+1, :] -= np.minimum(12, full[max(y*sc-1,0):(y+1)*sc+1, :])\n",
    "for x in range(0, fs[1], 10):\n",
    "  full[:, max(x*sc-1,0):(x+1)*sc+1] -= np.minimum(12, full[:, max(x*sc-1,0):(x+1)*sc+1])"
   ]
  },
  {
   "cell_type": "code",
   "execution_count": 261,
   "metadata": {},
   "outputs": [],
   "source": [
    "labels_full = np.full((fs[0]*sc,fs[1]*sc), 255, dtype=np.uint8)\n",
    "for cell in cells:\n",
    "    labels_full[cell[\"y\"]*sc:(cell[\"y\"]+1)*sc, cell[\"x\"]*sc:(cell[\"x\"]+1)*sc] = cell[\"label_render\"]"
   ]
  },
  {
   "cell_type": "code",
   "execution_count": 262,
   "metadata": {},
   "outputs": [],
   "source": [
    "labels_full_img = Image.fromarray(labels_full)\n",
    "labels_full_img.save(\"fish/labels_full_fish.jpg\")"
   ]
  },
  {
   "cell_type": "code",
   "execution_count": 263,
   "metadata": {
    "id": "jPQCEXyYG6yD"
   },
   "outputs": [],
   "source": [
    "full_img = Image.fromarray(full)"
   ]
  },
  {
   "cell_type": "code",
   "execution_count": 264,
   "metadata": {
    "id": "zza8PpZfP8Dw"
   },
   "outputs": [],
   "source": [
    "font_large = ImageFont.truetype(\"MaisonNeue-Mono.otf\", 192, encoding=\"unic\")"
   ]
  },
  {
   "cell_type": "code",
   "execution_count": 265,
   "metadata": {
    "id": "_sqFisH8IqLF"
   },
   "outputs": [],
   "source": [
    "draw = ImageDraw.Draw(full_img)\n",
    "for y in range(1, fs[0]-1):\n",
    "  draw.text((60, y*sc+30), f\"{y}\", \n",
    "    fill=(0), font=font_large, align=\"left\")\n",
    "  draw.text((full.shape[1]-sc+40, y*sc+40), f\"{y}\", \n",
    "    fill=(0), font=font_large, align=\"left\")\n",
    "for x in range(1, fs[1]-1):\n",
    "  draw.text((x*sc+40, 60), f\"{x}\",\n",
    "    fill=(0), font=font_large, align=\"left\")\n",
    "  draw.text((x*sc+40, full.shape[0]-sc+40), f\"{x}\", \n",
    "    fill=(0), font=font_large, align=\"left\")\n",
    "del draw\n"
   ]
  },
  {
   "cell_type": "code",
   "execution_count": 266,
   "metadata": {
    "id": "7sk4f1K-D1k3"
   },
   "outputs": [],
   "source": [
    "!mkdir -p fish/tiles"
   ]
  },
  {
   "cell_type": "code",
   "execution_count": 267,
   "metadata": {
    "id": "3SresmVx_4po"
   },
   "outputs": [],
   "source": [
    "full_img.save(\"fish/full_fish.jpg\")"
   ]
  },
  {
   "cell_type": "code",
   "execution_count": 268,
   "metadata": {},
   "outputs": [
    {
     "data": {
      "text/plain": [
       "array([[255, 255, 255, ..., 255, 255, 255],\n",
       "       [255, 255, 255, ..., 255, 255, 255],\n",
       "       [255, 255, 255, ..., 255, 255, 255],\n",
       "       ...,\n",
       "       [255, 255, 255, ..., 255, 255, 255],\n",
       "       [255, 255, 255, ..., 255, 255, 255],\n",
       "       [255, 255, 255, ..., 255, 255, 255]], dtype=uint8)"
      ]
     },
     "execution_count": 268,
     "metadata": {},
     "output_type": "execute_result"
    }
   ],
   "source": [
    "np.zeros((full.shape[0], full.shape[1], 4)).shape\n",
    "labels_full"
   ]
  },
  {
   "cell_type": "code",
   "execution_count": 271,
   "metadata": {},
   "outputs": [],
   "source": [
    "font_sm = ImageFont.truetype(\"MaisonNeue-Demi.otf\", 40, encoding=\"unic\")"
   ]
  },
  {
   "cell_type": "code",
   "execution_count": 274,
   "metadata": {
    "id": "Fs-yi6WIwyIR"
   },
   "outputs": [],
   "source": [
    "for idx, cell in enumerate(cells):\n",
    "  tile = np.full((sc+100, sc+100), 255, dtype=np.uint8)\n",
    "  tile[80:80+sc, 80:80+sc] = cell[\"render\"]\n",
    "  img = Image.fromarray(tile)\n",
    "  draw = ImageDraw.Draw(img)\n",
    "  draw.text((15, 15), f\"id:{cell['id']} x:{cell['x']} y:{cell['y']}\", \n",
    "    fill=(0), font=font_sm, spacing=0, align=\"left\")\n",
    "  del draw\n",
    "  num = str(idx).zfill(4)\n",
    "  img.save(f\"fish/tiles/tile_{num}.jpg\")"
   ]
  },
  {
   "cell_type": "code",
   "execution_count": 275,
   "metadata": {
    "colab": {
     "base_uri": "https://localhost:8080/",
     "height": 287
    },
    "id": "bkFhpWHqPsZg",
    "outputId": "ced9fb87-da2c-4767-c0eb-5e8749d559ed"
   },
   "outputs": [
    {
     "data": {
      "text/plain": [
       "<matplotlib.image.AxesImage at 0x7f8ba244ffd0>"
      ]
     },
     "execution_count": 275,
     "metadata": {},
     "output_type": "execute_result"
    },
    {
     "data": {
      "image/png": "[encoded data removed]",
      "text/plain": [
       "<Figure size 432x288 with 1 Axes>"
      ]
     },
     "metadata": {
      "needs_background": "light"
     },
     "output_type": "display_data"
    }
   ],
   "source": [
    "plt.imshow(img)"
   ]
  },
  {
   "cell_type": "code",
   "execution_count": 236,
   "metadata": {
    "id": "ITrp17uRCWwn"
   },
   "outputs": [],
   "source": [
    "#!rm fish.zip\n",
    "#!zip -rq fish.zip fish\n",
    "#!rm -r fish"
   ]
  },
  {
   "cell_type": "code",
   "execution_count": 38,
   "metadata": {
    "colab": {
     "base_uri": "https://localhost:8080/"
    },
    "id": "LaTQulSqRHWw",
    "outputId": "f324ccf5-fe59-4920-d7b7-31a3ddf23cec"
   },
   "outputs": [
    {
     "name": "stdout",
     "output_type": "stream",
     "text": [
      "193M\tfish.zip\r\n"
     ]
    }
   ],
   "source": [
    "!du -h fish.zip"
   ]
  },
  {
   "cell_type": "code",
   "execution_count": null,
   "metadata": {
    "id": "1ZhIN7OyJShm"
   },
   "outputs": [],
   "source": []
  },
  {
   "cell_type": "code",
   "execution_count": null,
   "metadata": {
    "id": "Zk99QX_tJckd"
   },
   "outputs": [],
   "source": []
  }
 ],
 "metadata": {
  "colab": {
   "collapsed_sections": [],
   "provenance": []
  },
  "kernelspec": {
   "display_name": "Python 3 (ipykernel)",
   "language": "python",
   "name": "python3"
  },
  "language_info": {
   "codemirror_mode": {
    "name": "ipython",
    "version": 3
   },
   "file_extension": ".py",
   "mimetype": "text/x-python",
   "name": "python",
   "nbconvert_exporter": "python",
   "pygments_lexer": "ipython3",
   "version": "3.9.12"
  }
 },
 "nbformat": 4,
 "nbformat_minor": 1
}
