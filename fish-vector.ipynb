{
 "cells": [
  {
   "cell_type": "code",
   "execution_count": 6,
   "metadata": {
    "id": "7D1nEkTSiQ8G"
   },
   "outputs": [],
   "source": [
    "import numpy as np\n",
    "from PIL import Image, ImageDraw, ImageOps, ImageFont\n",
    "import matplotlib.pyplot as plt\n",
    "from IPython.display import SVG, display"
   ]
  },
  {
   "cell_type": "code",
   "execution_count": 7,
   "metadata": {
    "colab": {
     "base_uri": "https://localhost:8080/"
    },
    "id": "mB7YHHwBfJ7C",
    "outputId": "03c47c1d-b9e8-42b1-eb51-5f879647914d"
   },
   "outputs": [
    {
     "name": "stdout",
     "output_type": "stream",
     "text": [
      "Requirement already satisfied: einops in /Users/peterwhidden/opt/anaconda3/envs/good/lib/python3.10/site-packages (0.4.1)\n",
      "Requirement already satisfied: drawSvg in /Users/peterwhidden/opt/anaconda3/envs/good/lib/python3.10/site-packages (1.9.0)\n",
      "Requirement already satisfied: imageio in /Users/peterwhidden/opt/anaconda3/envs/good/lib/python3.10/site-packages (from drawSvg) (2.21.1)\n",
      "Requirement already satisfied: numpy in /Users/peterwhidden/opt/anaconda3/envs/good/lib/python3.10/site-packages (from drawSvg) (1.23.2)\n",
      "Requirement already satisfied: cairoSVG in /Users/peterwhidden/opt/anaconda3/envs/good/lib/python3.10/site-packages (from drawSvg) (2.5.2)\n",
      "Requirement already satisfied: defusedxml in /Users/peterwhidden/opt/anaconda3/envs/good/lib/python3.10/site-packages (from cairoSVG->drawSvg) (0.7.1)\n",
      "Requirement already satisfied: tinycss2 in /Users/peterwhidden/opt/anaconda3/envs/good/lib/python3.10/site-packages (from cairoSVG->drawSvg) (1.2.1)\n",
      "Requirement already satisfied: cairocffi in /Users/peterwhidden/opt/anaconda3/envs/good/lib/python3.10/site-packages (from cairoSVG->drawSvg) (1.4.0)\n",
      "Requirement already satisfied: pillow in /Users/peterwhidden/opt/anaconda3/envs/good/lib/python3.10/site-packages (from cairoSVG->drawSvg) (9.2.0)\n",
      "Requirement already satisfied: cssselect2 in /Users/peterwhidden/opt/anaconda3/envs/good/lib/python3.10/site-packages (from cairoSVG->drawSvg) (0.7.0)\n",
      "Requirement already satisfied: cffi>=1.1.0 in /Users/peterwhidden/opt/anaconda3/envs/good/lib/python3.10/site-packages (from cairocffi->cairoSVG->drawSvg) (1.15.1)\n",
      "Requirement already satisfied: webencodings in /Users/peterwhidden/opt/anaconda3/envs/good/lib/python3.10/site-packages (from cssselect2->cairoSVG->drawSvg) (0.5.1)\n",
      "Requirement already satisfied: pycparser in /Users/peterwhidden/opt/anaconda3/envs/good/lib/python3.10/site-packages (from cffi>=1.1.0->cairocffi->cairoSVG->drawSvg) (2.21)\n"
     ]
    }
   ],
   "source": [
    "!pip install einops drawSvg"
   ]
  },
  {
   "cell_type": "code",
   "execution_count": 8,
   "metadata": {},
   "outputs": [
    {
     "name": "stdout",
     "output_type": "stream",
     "text": [
      "Requirement already satisfied: scikit-image in /Users/peterwhidden/opt/anaconda3/envs/good/lib/python3.10/site-packages (0.19.3)\n",
      "Requirement already satisfied: pillow!=7.1.0,!=7.1.1,!=8.3.0,>=6.1.0 in /Users/peterwhidden/opt/anaconda3/envs/good/lib/python3.10/site-packages (from scikit-image) (9.2.0)\n",
      "Requirement already satisfied: imageio>=2.4.1 in /Users/peterwhidden/opt/anaconda3/envs/good/lib/python3.10/site-packages (from scikit-image) (2.21.1)\n",
      "Requirement already satisfied: tifffile>=2019.7.26 in /Users/peterwhidden/opt/anaconda3/envs/good/lib/python3.10/site-packages (from scikit-image) (2022.8.12)\n",
      "Requirement already satisfied: PyWavelets>=1.1.1 in /Users/peterwhidden/opt/anaconda3/envs/good/lib/python3.10/site-packages (from scikit-image) (1.3.0)\n",
      "Requirement already satisfied: packaging>=20.0 in /Users/peterwhidden/opt/anaconda3/envs/good/lib/python3.10/site-packages (from scikit-image) (21.3)\n",
      "Requirement already satisfied: numpy>=1.17.0 in /Users/peterwhidden/opt/anaconda3/envs/good/lib/python3.10/site-packages (from scikit-image) (1.23.2)\n",
      "Requirement already satisfied: networkx>=2.2 in /Users/peterwhidden/opt/anaconda3/envs/good/lib/python3.10/site-packages (from scikit-image) (2.8.5)\n",
      "Requirement already satisfied: scipy>=1.4.1 in /Users/peterwhidden/opt/anaconda3/envs/good/lib/python3.10/site-packages (from scikit-image) (1.9.0)\n",
      "Requirement already satisfied: pyparsing!=3.0.5,>=2.0.2 in /Users/peterwhidden/opt/anaconda3/envs/good/lib/python3.10/site-packages (from packaging>=20.0->scikit-image) (3.0.9)\n"
     ]
    }
   ],
   "source": [
    "!pip install scikit-image"
   ]
  },
  {
   "cell_type": "code",
   "execution_count": 9,
   "metadata": {
    "id": "LOD7kONufM8N"
   },
   "outputs": [
    {
     "name": "stderr",
     "output_type": "stream",
     "text": [
      "/Users/peterwhidden/opt/anaconda3/envs/good/lib/python3.10/site-packages/drawSvg/raster.py:18: RuntimeWarning: Failed to import CairoSVG. drawSvg will be unable to output PNG or other raster image formats. See https://github.com/cduck/drawSvg#prerequisites for more details.\n",
      "Original OSError: no library called \"cairo-2\" was found\n",
      "no library called \"cairo\" was found\n",
      "no library called \"libcairo-2\" was found\n",
      "cannot load library 'libcairo.so.2': dlopen(libcairo.so.2, 0x0002): tried: '/Users/peterwhidden/opt/anaconda3/envs/good/lib/libcairo.so.2' (no such file), '/Users/peterwhidden/opt/anaconda3/envs/good/lib/libcairo.so.2' (no such file), '/Users/peterwhidden/opt/anaconda3/envs/good/lib/python3.10/site-packages/../../libcairo.so.2' (no such file), '/Users/peterwhidden/opt/anaconda3/envs/good/lib/libcairo.so.2' (no such file), '/Users/peterwhidden/opt/anaconda3/envs/good/bin/../lib/libcairo.so.2' (no such file), 'libcairo.so.2' (no such file), '/usr/local/lib/libcairo.so.2' (no such file), '/usr/lib/libcairo.so.2' (no such file), '/Users/peterwhidden/Documents/fish-project/libcairo.so.2' (no such file)\n",
      "cannot load library 'libcairo.2.dylib': dlopen(libcairo.2.dylib, 0x0002): tried: '/Users/peterwhidden/opt/anaconda3/envs/good/lib/libcairo.2.dylib' (no such file), '/Users/peterwhidden/opt/anaconda3/envs/good/lib/libcairo.2.dylib' (no such file), '/Users/peterwhidden/opt/anaconda3/envs/good/lib/python3.10/site-packages/../../libcairo.2.dylib' (no such file), '/Users/peterwhidden/opt/anaconda3/envs/good/lib/libcairo.2.dylib' (no such file), '/Users/peterwhidden/opt/anaconda3/envs/good/bin/../lib/libcairo.2.dylib' (no such file), 'libcairo.2.dylib' (no such file), '/usr/local/lib/libcairo.2.dylib' (no such file), '/usr/lib/libcairo.2.dylib' (no such file), '/Users/peterwhidden/Documents/fish-project/libcairo.2.dylib' (no such file)\n",
      "cannot load library 'libcairo-2.dll': dlopen(libcairo-2.dll, 0x0002): tried: '/Users/peterwhidden/opt/anaconda3/envs/good/lib/libcairo-2.dll' (no such file), '/Users/peterwhidden/opt/anaconda3/envs/good/lib/libcairo-2.dll' (no such file), '/Users/peterwhidden/opt/anaconda3/envs/good/lib/python3.10/site-packages/../../libcairo-2.dll' (no such file), '/Users/peterwhidden/opt/anaconda3/envs/good/lib/libcairo-2.dll' (no such file), '/Users/peterwhidden/opt/anaconda3/envs/good/bin/../lib/libcairo-2.dll' (no such file), 'libcairo-2.dll' (no such file), '/usr/local/lib/libcairo-2.dll' (no such file), '/usr/lib/libcairo-2.dll' (no such file), '/Users/peterwhidden/Documents/fish-project/libcairo-2.dll' (no such file)\n",
      "  warnings.warn(msg, RuntimeWarning)\n"
     ]
    }
   ],
   "source": [
    "from einops import rearrange\n",
    "import drawSvg as draw"
   ]
  },
  {
   "cell_type": "code",
   "execution_count": 10,
   "metadata": {},
   "outputs": [],
   "source": [
    "from skimage.morphology import flood_fill\n",
    "\n",
    "#flood_fill(image, (x, y), newval)"
   ]
  },
  {
   "cell_type": "code",
   "execution_count": 40,
   "metadata": {},
   "outputs": [],
   "source": [
    "d = draw.Drawing(200, 100, origin='center', displayInline=False)\n",
    "\n",
    "# Draw an irregular polygon\n",
    "d.append(draw.Lines(-80, -45,\n",
    "                    70, -49,\n",
    "                    95, 49,\n",
    "                    -90, 40,\n",
    "                    close=True,\n",
    "            fill='#eeee00',\n",
    "            stroke='black'))\n",
    "\n",
    "d.saveSvg('example.svg')"
   ]
  },
  {
   "cell_type": "code",
   "execution_count": 41,
   "metadata": {
    "id": "hZmB-bkqogdM"
   },
   "outputs": [],
   "source": [
    "def empty_cell(dim=32):\n",
    "    base = np.full((dim,dim), 255, dtype=np.uint8)\n",
    "    base[0, :] = 0\n",
    "    base[dim-1, :] = 0\n",
    "    base[dim-1, :] = 0\n",
    "    base[:, 0] = 0\n",
    "    base[:, dim-1] = 0\n",
    "    return base"
   ]
  },
  {
   "cell_type": "code",
   "execution_count": 42,
   "metadata": {
    "colab": {
     "base_uri": "https://localhost:8080/"
    },
    "id": "-9XBx_QJEkUK",
    "outputId": "1cf9bbab-a711-46e7-e54a-2521280cdd85"
   },
   "outputs": [
    {
     "data": {
      "text/plain": [
       "1120.8465574603176"
      ]
     },
     "execution_count": 42,
     "metadata": {},
     "output_type": "execute_result"
    }
   ],
   "source": [
    "\n",
    "(12* 110.333333) / ((11 + 13/16) / 10)"
   ]
  },
  {
   "cell_type": "code",
   "execution_count": 43,
   "metadata": {
    "colab": {
     "base_uri": "https://localhost:8080/",
     "height": 284
    },
    "id": "uVx3gPnYot1O",
    "outputId": "034f92e1-ef7b-46ac-e3d8-29a07ac02fc9"
   },
   "outputs": [
    {
     "data": {
      "text/plain": [
       "<matplotlib.image.AxesImage at 0x7f8d6800e440>"
      ]
     },
     "execution_count": 43,
     "metadata": {},
     "output_type": "execute_result"
    },
    {
     "data": {
      "image/png": "[encoded data removed]",
      "text/plain": [
       "<Figure size 640x480 with 1 Axes>"
      ]
     },
     "metadata": {},
     "output_type": "display_data"
    }
   ],
   "source": [
    "plt.imshow(empty_cell(33))"
   ]
  },
  {
   "cell_type": "code",
   "execution_count": 44,
   "metadata": {
    "id": "hi2gSZiRoOJ1"
   },
   "outputs": [],
   "source": [
    "def full_cell(dim=32):\n",
    "    filled = Image.fromarray(np.zeros((dim,dim), dtype=np.uint8))\n",
    "    draw = ImageDraw.Draw(filled)\n",
    "    s = dim\n",
    "    o = 2\n",
    "    stroke = 4\n",
    "    ss = dim - stroke\n",
    "    draw.ellipse( (0+o, 0+o, s-o, s-o), fill=(255,), outline=(0,))\n",
    "    draw.ellipse( (0+o+stroke, 0+o+stroke, ss-o, ss-o), fill=(0,), outline=(0,))\n",
    "    del draw\n",
    "    return filled"
   ]
  },
  {
   "cell_type": "code",
   "execution_count": 45,
   "metadata": {
    "colab": {
     "base_uri": "https://localhost:8080/",
     "height": 284
    },
    "id": "T47wdhs2p868",
    "outputId": "9fb4745b-7e2b-4f72-c2a1-36cf96ca628e"
   },
   "outputs": [
    {
     "data": {
      "text/plain": [
       "<matplotlib.image.AxesImage at 0x7f8d68079ae0>"
      ]
     },
     "execution_count": 45,
     "metadata": {},
     "output_type": "execute_result"
    },
    {
     "data": {
      "image/png": "[encoded data removed]",
      "text/plain": [
       "<Figure size 640x480 with 1 Axes>"
      ]
     },
     "metadata": {},
     "output_type": "display_data"
    }
   ],
   "source": [
    "plt.imshow(full_cell(33))"
   ]
  },
  {
   "cell_type": "code",
   "execution_count": 69,
   "metadata": {
    "id": "BhoUAZivexp9"
   },
   "outputs": [],
   "source": [
    "img = Image.open(\"mask_v2.png\")\n",
    "im = np.array(img)[:, 1:] # np.array(img)"
   ]
  },
  {
   "cell_type": "code",
   "execution_count": 70,
   "metadata": {
    "colab": {
     "base_uri": "https://localhost:8080/",
     "height": 287
    },
    "id": "miZ3L0r1e-Au",
    "outputId": "665390af-6f4e-4805-8d66-4693e4ae3503"
   },
   "outputs": [
    {
     "data": {
      "text/plain": [
       "<matplotlib.image.AxesImage at 0x7f8d9afebcd0>"
      ]
     },
     "execution_count": 70,
     "metadata": {},
     "output_type": "execute_result"
    },
    {
     "data": {
      "image/png": "[encoded data removed]",
      "text/plain": [
       "<Figure size 640x480 with 1 Axes>"
      ]
     },
     "metadata": {},
     "output_type": "display_data"
    }
   ],
   "source": [
    "plt.imshow(im)"
   ]
  },
  {
   "cell_type": "code",
   "execution_count": 71,
   "metadata": {
    "colab": {
     "base_uri": "https://localhost:8080/"
    },
    "id": "AM9x6p30e_GR",
    "outputId": "534b45aa-4180-4b46-af04-f38b162cff3d"
   },
   "outputs": [
    {
     "data": {
      "text/plain": [
       "(814, 1043, 4)"
      ]
     },
     "execution_count": 71,
     "metadata": {},
     "output_type": "execute_result"
    }
   ],
   "source": [
    "im.shape"
   ]
  },
  {
   "cell_type": "code",
   "execution_count": 72,
   "metadata": {},
   "outputs": [
    {
     "data": {
      "text/plain": [
       "(890, 1040)"
      ]
     },
     "execution_count": 72,
     "metadata": {},
     "output_type": "execute_result"
    }
   ],
   "source": [
    "np.pad(np.array(im[:810, :1040, 3]), ((40, 40), (0,0)), 'edge').shape"
   ]
  },
  {
   "cell_type": "code",
   "execution_count": 73,
   "metadata": {
    "colab": {
     "base_uri": "https://localhost:8080/"
    },
    "id": "rqYAMLztiSoM",
    "outputId": "a5d6ac0d-5c6a-4d1c-b7e8-492c1db16c6a"
   },
   "outputs": [
    {
     "data": {
      "text/plain": [
       "(890, 1040)"
      ]
     },
     "execution_count": 73,
     "metadata": {},
     "output_type": "execute_result"
    }
   ],
   "source": [
    "ims = np.pad(np.array(im[:810, :1040, 3]), ((40, 40), (0,0)), 'edge') #np.array(im[:810, :1040, 3])\n",
    "ims.shape"
   ]
  },
  {
   "cell_type": "code",
   "execution_count": 74,
   "metadata": {},
   "outputs": [],
   "source": [
    "fill_interior = True # False# True"
   ]
  },
  {
   "cell_type": "code",
   "execution_count": 75,
   "metadata": {},
   "outputs": [],
   "source": [
    "if fill_interior:\n",
    "    ims = flood_fill(ims, (600,600), 255)\n",
    "    ims = flood_fill(ims, (200,500), 255)"
   ]
  },
  {
   "cell_type": "code",
   "execution_count": 76,
   "metadata": {
    "id": "u_LpVnruroci"
   },
   "outputs": [],
   "source": [
    "tile_size = 10"
   ]
  },
  {
   "cell_type": "code",
   "execution_count": 77,
   "metadata": {
    "id": "Zg7a8MFjfGt9"
   },
   "outputs": [],
   "source": [
    "chunked = rearrange(ims, \"(i x) (j y) -> i j x y \", x=tile_size, y=tile_size)"
   ]
  },
  {
   "cell_type": "code",
   "execution_count": 78,
   "metadata": {
    "colab": {
     "base_uri": "https://localhost:8080/"
    },
    "id": "Q0GvpoA4mXaT",
    "outputId": "ce0ddb15-fb09-464d-9b5f-ed933fe452a2"
   },
   "outputs": [
    {
     "data": {
      "text/plain": [
       "(89, 104, 10, 10)"
      ]
     },
     "execution_count": 78,
     "metadata": {},
     "output_type": "execute_result"
    }
   ],
   "source": [
    "chunked.shape"
   ]
  },
  {
   "cell_type": "code",
   "execution_count": 79,
   "metadata": {
    "colab": {
     "base_uri": "https://localhost:8080/",
     "height": 283
    },
    "id": "Zq3SA12bmfmA",
    "outputId": "f49aae12-513d-47f2-c8e8-1d0b5ac28e04"
   },
   "outputs": [
    {
     "data": {
      "text/plain": [
       "<matplotlib.image.AxesImage at 0x7f8d9b013d00>"
      ]
     },
     "execution_count": 79,
     "metadata": {},
     "output_type": "execute_result"
    },
    {
     "data": {
      "image/png": "[encoded data removed]",
      "text/plain": [
       "<Figure size 640x480 with 1 Axes>"
      ]
     },
     "metadata": {},
     "output_type": "display_data"
    }
   ],
   "source": [
    "plt.imshow(chunked[20,5])"
   ]
  },
  {
   "cell_type": "code",
   "execution_count": 80,
   "metadata": {
    "id": "1QONnGDPsEUZ"
   },
   "outputs": [],
   "source": [
    "thres = 20 # 128\n",
    "threshed_chunks = (chunked > thres).astype(np.uint8)\n",
    "thresh_mask = (ims > thres)\n",
    "thresh_chunks_mask = (chunked > thres)\n",
    "threshed = (ims > thres).astype(np.uint8)"
   ]
  },
  {
   "cell_type": "code",
   "execution_count": 81,
   "metadata": {},
   "outputs": [
    {
     "data": {
      "text/plain": [
       "(89, 104, 10, 10)"
      ]
     },
     "execution_count": 81,
     "metadata": {},
     "output_type": "execute_result"
    }
   ],
   "source": [
    "thresh_chunks_mask.shape"
   ]
  },
  {
   "cell_type": "code",
   "execution_count": 82,
   "metadata": {},
   "outputs": [
    {
     "data": {
      "text/plain": [
       "<matplotlib.image.AxesImage at 0x7f8dcb375c90>"
      ]
     },
     "execution_count": 82,
     "metadata": {},
     "output_type": "execute_result"
    },
    {
     "data": {
      "image/png": "[encoded data removed]",
      "text/plain": [
       "<Figure size 640x480 with 1 Axes>"
      ]
     },
     "metadata": {},
     "output_type": "display_data"
    }
   ],
   "source": [
    "plt.imshow(thresh_mask)"
   ]
  },
  {
   "cell_type": "code",
   "execution_count": null,
   "metadata": {},
   "outputs": [],
   "source": []
  },
  {
   "cell_type": "code",
   "execution_count": null,
   "metadata": {},
   "outputs": [],
   "source": []
  },
  {
   "cell_type": "code",
   "execution_count": 83,
   "metadata": {},
   "outputs": [
    {
     "data": {
      "text/plain": [
       "False"
      ]
     },
     "execution_count": 83,
     "metadata": {},
     "output_type": "execute_result"
    }
   ],
   "source": [
    "thresh_chunks_mask[0][0].any()"
   ]
  },
  {
   "cell_type": "code",
   "execution_count": 84,
   "metadata": {},
   "outputs": [],
   "source": [
    "#flooded_chunks = np.array([[chunk.any() for chunk in col] for col in thresh_chunks_mask]) # flood_fill(image, (x, y), newval)\n",
    "#flooded_chunks = flood_fill(flooded_chunks, (20,50), 1)\n",
    "#flooded_chunks = flood_fill(flooded_chunks, (60,60), 1)"
   ]
  },
  {
   "cell_type": "code",
   "execution_count": 85,
   "metadata": {},
   "outputs": [],
   "source": [
    "\n",
    "#plt.imshow(flooded_chunks)"
   ]
  },
  {
   "cell_type": "code",
   "execution_count": 86,
   "metadata": {},
   "outputs": [
    {
     "data": {
      "text/plain": [
       "(10, 10)"
      ]
     },
     "execution_count": 86,
     "metadata": {},
     "output_type": "execute_result"
    }
   ],
   "source": [
    "thresh_chunks_mask[0][0].shape"
   ]
  },
  {
   "cell_type": "code",
   "execution_count": 87,
   "metadata": {},
   "outputs": [],
   "source": [
    "def show_svg(path):\n",
    "    display(SVG(filename=path))"
   ]
  },
  {
   "cell_type": "code",
   "execution_count": 88,
   "metadata": {},
   "outputs": [
    {
     "data": {
      "text/plain": [
       "'\\ndot_count = 0\\nscale = 100\\nw = thresh_chunks_mask.shape[1]*scale\\nh = thresh_chunks_mask.shape[0]*scale\\nd = draw.Drawing(w, h, origin=(0,0), displayInline=False)\\nfor j, col in enumerate(thresh_chunks_mask):\\n    for i, cell in enumerate(col):\\n        if cell.any():\\n            c_size = cell.shape\\n            for y, c_col in enumerate(cell):\\n                for x, val in enumerate(c_col):\\n                    xp = i*scale+x*c_size[0]\\n                    yp = h-(j*scale+y*c_size[1])\\n                    d.append(draw.Rectangle(xp-5, yp-5, 10, 10,\\n                        fill=\"none\", stroke_width=0.66, stroke=\\'black\\' ))\\n                    if val:\\n                        d.append(draw.Circle(xp, yp, 3,\\n                            fill=\"none\", stroke_width=1, stroke=\\'black\\'))\\n                        dot_count += 1\\n        #if thresh_mask[j][i]:\\n        #    d.append(draw.Circle(i*scale, h-j*scale, 4,\\n        #    fill=\"none\", stroke_width=1.5, stroke=\\'black\\'))\\n'"
      ]
     },
     "execution_count": 88,
     "metadata": {},
     "output_type": "execute_result"
    }
   ],
   "source": [
    "\"\"\"\n",
    "dot_count = 0\n",
    "scale = 100\n",
    "w = thresh_chunks_mask.shape[1]*scale\n",
    "h = thresh_chunks_mask.shape[0]*scale\n",
    "d = draw.Drawing(w, h, origin=(0,0), displayInline=False)\n",
    "for j, col in enumerate(thresh_chunks_mask):\n",
    "    for i, cell in enumerate(col):\n",
    "        if cell.any():\n",
    "            c_size = cell.shape\n",
    "            for y, c_col in enumerate(cell):\n",
    "                for x, val in enumerate(c_col):\n",
    "                    xp = i*scale+x*c_size[0]\n",
    "                    yp = h-(j*scale+y*c_size[1])\n",
    "                    d.append(draw.Rectangle(xp-5, yp-5, 10, 10,\n",
    "                        fill=\"none\", stroke_width=0.66, stroke='black' ))\n",
    "                    if val:\n",
    "                        d.append(draw.Circle(xp, yp, 3,\n",
    "                            fill=\"none\", stroke_width=1, stroke='black'))\n",
    "                        dot_count += 1\n",
    "        #if thresh_mask[j][i]:\n",
    "        #    d.append(draw.Circle(i*scale, h-j*scale, 4,\n",
    "        #    fill=\"none\", stroke_width=1.5, stroke='black'))\n",
    "\"\"\""
   ]
  },
  {
   "cell_type": "code",
   "execution_count": 89,
   "metadata": {},
   "outputs": [
    {
     "data": {
      "text/plain": [
       "10"
      ]
     },
     "execution_count": 89,
     "metadata": {},
     "output_type": "execute_result"
    }
   ],
   "source": [
    "thresh_chunks_mask[0][0].shape[1]"
   ]
  },
  {
   "cell_type": "code",
   "execution_count": 90,
   "metadata": {},
   "outputs": [
    {
     "name": "stdout",
     "output_type": "stream",
     "text": [
      "cell size:  1.18125\n",
      "padding: 0.0625\n",
      "chunk_size_x 11.875\n",
      "chunk_size_y 11.875\n",
      "min_x: 58.784375, max_x: 1175.034375, min_y: 128.853125, max_y: 929.328125\n",
      "fish dims w: 1116.25, h: 800.475\n",
      "wall dims w: 1184, h: 1020\n",
      "x margins: 33.875, y margins: 109.76249999999999\n",
      "dot count: 268448\n"
     ]
    }
   ],
   "source": [
    "dot_count = 0\n",
    "disk_size = 1.125 # inches\n",
    "cell_size = (11 + 13/16) / 10 # inches\n",
    "wall_w = 98*12 + 8\n",
    "wall_h = 85*12\n",
    "print(\"cell size: \", cell_size)\n",
    "padding = 1/16\n",
    "print(\"padding:\", padding)\n",
    "chunk_size_x = thresh_chunks_mask[0][0].shape[0] * cell_size + padding\n",
    "chunk_size_y = thresh_chunks_mask[0][0].shape[1] * cell_size + padding\n",
    "print(\"chunk_size_x\", chunk_size_x)\n",
    "print(\"chunk_size_y\", chunk_size_y)\n",
    "\n",
    "w = thresh_chunks_mask.shape[1]*chunk_size_x\n",
    "h = thresh_chunks_mask.shape[0]*chunk_size_y\n",
    "d = draw.Drawing(w, h, origin=(0,0), displayInline=False)\n",
    "# add bounding box on fish\n",
    "min_x = w\n",
    "max_x = 0\n",
    "min_y = h\n",
    "max_y = 0\n",
    "\n",
    "for j, col in enumerate(thresh_chunks_mask):\n",
    "    for i, cell in enumerate(col):\n",
    "        if cell.any():\n",
    "            for y, c_col in enumerate(cell):\n",
    "                for x, val in enumerate(c_col):\n",
    "                    xp = i*chunk_size_x + x * cell_size\n",
    "                    yp = h-(j*chunk_size_y) - y * cell_size\n",
    "                    d.append(draw.Rectangle(xp-0.5*cell_size, yp-0.5*cell_size, cell_size, cell_size,\n",
    "                        fill=\"none\", stroke_width=cell_size*0.008, stroke='black' ))\n",
    "                    if val:\n",
    "                        d.append(draw.Circle(xp, yp, disk_size*0.5,\n",
    "                            fill=\"none\", stroke_width=cell_size*0.008, stroke='black'))\n",
    "                        dot_count += 1\n",
    "                        min_x = min(min_x, xp)\n",
    "                        max_x = max(max_x, xp)\n",
    "                        min_y = min(min_y, yp)\n",
    "                        max_y = max(max_y, yp)\n",
    "        #if thresh_mask[j][i]:\n",
    "        #    d.append(draw.Circle(i*scale, h-j*scale, 4,\n",
    "        #    fill=\"none\", stroke_width=1.5, stroke='black'))\n",
    "\n",
    "min_x -= 0.5*cell_size\n",
    "max_x += 0.5*cell_size + 1/16\n",
    "min_y -= 0.5*cell_size\n",
    "max_y += 0.5*cell_size + 1/16\n",
    "bounding_fish_width = max_x-min_x\n",
    "bounding_fish_height = max_y-min_y\n",
    "print(f\"min_x: {min_x}, max_x: {max_x}, min_y: {min_y}, max_y: {max_y}\")\n",
    "print(f\"fish dims w: {bounding_fish_width}, h: {bounding_fish_height}\")\n",
    "print(f\"wall dims w: {wall_w}, h: {wall_h}\")\n",
    "# draw fish bounds\n",
    "d.append(\n",
    "    draw.Rectangle(\n",
    "        min_x, min_y, max_x-min_x, max_y-min_y,\n",
    "        fill=\"none\", stroke_width=cell_size*0.018, stroke='black'\n",
    "    )\n",
    ")\n",
    "d.append(draw.Text('FISH BOUNDS', 18, min_x+8, min_y+8, fill='black', style=\"font-family: monospace\"))\n",
    "\n",
    "# draw wall\n",
    "fish_center_x = 0.5*(max_x+min_x)\n",
    "fish_center_y = 0.5*(max_y+min_y)\n",
    "d.append(\n",
    "    draw.Rectangle(\n",
    "        fish_center_x-0.5*wall_w, fish_center_y-0.5*wall_h, wall_w, wall_h,\n",
    "        fill=\"none\", stroke_width=cell_size*0.018, stroke='black'\n",
    "    )\n",
    ")\n",
    "d.append(draw.Text('WALL', 18, \n",
    "  fish_center_x-0.5*wall_w+8, fish_center_y-0.5*wall_h+8, fill='black', style=\"font-family: monospace\"))\n",
    "print(f\"x margins: {0.5*(wall_w-(max_x-min_x))}, y margins: {0.5*(wall_h-(max_y-min_y))}\")\n",
    "print(\"dot count:\", dot_count)"
   ]
  },
  {
   "cell_type": "code",
   "execution_count": 91,
   "metadata": {},
   "outputs": [],
   "source": [
    "d.saveSvg(\"test_fish.svg\")"
   ]
  },
  {
   "cell_type": "code",
   "execution_count": 92,
   "metadata": {},
   "outputs": [
    {
     "data": {
      "text/plain": [
       "1184.0"
      ]
     },
     "execution_count": 92,
     "metadata": {},
     "output_type": "execute_result"
    }
   ],
   "source": [
    "33.875 * 2 + 1116.25"
   ]
  },
  {
   "cell_type": "code",
   "execution_count": 93,
   "metadata": {},
   "outputs": [
    {
     "data": {
      "text/plain": [
       "1184"
      ]
     },
     "execution_count": 93,
     "metadata": {},
     "output_type": "execute_result"
    }
   ],
   "source": [
    "wall_w"
   ]
  },
  {
   "cell_type": "code",
   "execution_count": 147,
   "metadata": {},
   "outputs": [
    {
     "data": {
      "text/plain": [
       "98.66666666666667"
      ]
     },
     "execution_count": 147,
     "metadata": {},
     "output_type": "execute_result"
    }
   ],
   "source": [
    "wall_w/12"
   ]
  },
  {
   "cell_type": "code",
   "execution_count": 145,
   "metadata": {},
   "outputs": [
    {
     "data": {
      "text/plain": [
       "1020.0"
      ]
     },
     "execution_count": 145,
     "metadata": {},
     "output_type": "execute_result"
    }
   ],
   "source": [
    "100.3125 * 2 + 819.375"
   ]
  },
  {
   "cell_type": "code",
   "execution_count": 146,
   "metadata": {},
   "outputs": [
    {
     "data": {
      "text/plain": [
       "1020"
      ]
     },
     "execution_count": 146,
     "metadata": {},
     "output_type": "execute_result"
    }
   ],
   "source": [
    "wall_h"
   ]
  },
  {
   "cell_type": "code",
   "execution_count": 148,
   "metadata": {},
   "outputs": [
    {
     "data": {
      "text/plain": [
       "85.0"
      ]
     },
     "execution_count": 148,
     "metadata": {},
     "output_type": "execute_result"
    }
   ],
   "source": [
    "wall_h / 12"
   ]
  },
  {
   "cell_type": "code",
   "execution_count": 53,
   "metadata": {},
   "outputs": [],
   "source": [
    "d = draw.Drawing(10, 10, origin=(0,0), displayInline=False)\n",
    "d.append(draw.Rectangle(5-0.5*cell_size, 5-0.5*cell_size, cell_size, cell_size,\n",
    "                        fill=\"none\", stroke_width=cell_size*0.008, stroke='black' ))\n",
    "d.append(draw.Circle(5, 5, disk_size*0.5,\n",
    "                            fill=\"none\", stroke_width=cell_size*0.008, stroke='black'))\n",
    "d.saveSvg(\"test_disk.svg\")"
   ]
  },
  {
   "cell_type": "code",
   "execution_count": 35,
   "metadata": {},
   "outputs": [
    {
     "data": {
      "image/svg+xml": [
       "<svg xmlns=\"http://www.w3.org/2000/svg\" xmlns:xlink=\"http://www.w3.org/1999/xlink\" width=\"10\" height=\"10\" viewBox=\"0 -10 10 10\">\n",
       "<defs>\n",
       "</defs>\n",
       "<rect x=\"4.409375\" y=\"-5.590624999999999\" width=\"1.18125\" height=\"1.18125\" fill=\"none\" stroke-width=\"0.00945\" stroke=\"black\"/>\n",
       "<circle cx=\"5\" cy=\"-5\" r=\"0.5625\" fill=\"none\" stroke-width=\"0.00945\" stroke=\"black\"/>\n",
       "</svg>"
      ],
      "text/plain": [
       "<IPython.core.display.SVG object>"
      ]
     },
     "metadata": {},
     "output_type": "display_data"
    }
   ],
   "source": [
    "show_svg(\"test_disk.svg\")"
   ]
  },
  {
   "cell_type": "code",
   "execution_count": 28,
   "metadata": {
    "colab": {
     "base_uri": "https://localhost:8080/"
    },
    "id": "OZgEtaqa7jNi",
    "outputId": "84b34902-de15-4dce-f106-b418a047e94c"
   },
   "outputs": [
    {
     "data": {
      "text/plain": [
       "(89, 104, 10, 10)"
      ]
     },
     "execution_count": 28,
     "metadata": {},
     "output_type": "execute_result"
    }
   ],
   "source": [
    "threshed_chunks.shape"
   ]
  },
  {
   "cell_type": "code",
   "execution_count": 29,
   "metadata": {
    "colab": {
     "base_uri": "https://localhost:8080/",
     "height": 283
    },
    "id": "k9sux_PD8NXo",
    "outputId": "d5f7228a-5212-41f9-af35-4e3d439974a1"
   },
   "outputs": [
    {
     "data": {
      "text/plain": [
       "<matplotlib.image.AxesImage at 0x7fad90fad960>"
      ]
     },
     "execution_count": 29,
     "metadata": {},
     "output_type": "execute_result"
    },
    {
     "data": {
      "image/png": "[encoded data removed]",
      "text/plain": [
       "<Figure size 640x480 with 1 Axes>"
      ]
     },
     "metadata": {},
     "output_type": "display_data"
    }
   ],
   "source": [
    "plt.imshow(np.array(threshed_chunks[20,5]))"
   ]
  },
  {
   "cell_type": "code",
   "execution_count": 30,
   "metadata": {
    "id": "xCwr2iaAssra"
   },
   "outputs": [],
   "source": [
    "size = 33\n",
    "empty_c = np.array(empty_cell(size), dtype=np.uint8)\n",
    "full_c = np.array(full_cell(size), dtype=np.uint8)"
   ]
  },
  {
   "cell_type": "code",
   "execution_count": 22,
   "metadata": {
    "id": "op0PXiMiJpt4"
   },
   "outputs": [],
   "source": [
    "font = ImageFont.truetype(\"MaisonNeue-Demi.otf\", 90, encoding=\"unic\")"
   ]
  },
  {
   "cell_type": "code",
   "execution_count": 23,
   "metadata": {
    "colab": {
     "base_uri": "https://localhost:8080/"
    },
    "id": "ZGvU4LXDsVmI",
    "outputId": "014dffa9-b733-4c9c-b672-c1e584f94ea8"
   },
   "outputs": [
    {
     "data": {
      "text/plain": [
       "559"
      ]
     },
     "execution_count": 23,
     "metadata": {},
     "output_type": "execute_result"
    }
   ],
   "source": [
    "cells = []\n",
    "empty_tiles = np.tile(empty_c, (tile_size, tile_size))\n",
    "id = 0\n",
    "for j, col in enumerate(threshed_chunks):\n",
    "    for i, cell in enumerate(col):\n",
    "        s = cell.sum()\n",
    "        if s > 0:\n",
    "            render = empty_tiles - np.kron(cell, full_c)\n",
    "            img = Image.fromarray(np.ones_like(render)*255)\n",
    "            draw = ImageDraw.Draw(img)\n",
    "            draw.text((size*5-100, 10), f\"id:{id}\", \n",
    "              fill=(0), font=font, spacing=0, align=\"left\")\n",
    "            draw.text((size*5-100, 110), f\"x:{i}\", \n",
    "              fill=(0), font=font, spacing=0, align=\"left\")\n",
    "            draw.text((size*5-100, 210), f\"y:{j}\", \n",
    "              fill=(0), font=font, spacing=0, align=\"left\")\n",
    "            label_render = np.array(img)\n",
    "            del draw\n",
    "            cells.append({\"x\": i, \"y\": j, \"id\": id, \"render\": render, \n",
    "                          \"label_render\": label_render, \"cells\": cell})\n",
    "            id += 1\n",
    "len(cells)"
   ]
  },
  {
   "cell_type": "code",
   "execution_count": 24,
   "metadata": {
    "colab": {
     "base_uri": "https://localhost:8080/",
     "height": 287
    },
    "id": "bgxYq3jONT2U",
    "outputId": "2f868a67-5d04-4c7d-cffc-fe969d61c997"
   },
   "outputs": [
    {
     "data": {
      "text/plain": [
       "<matplotlib.image.AxesImage at 0x7f94f03ea0b0>"
      ]
     },
     "execution_count": 24,
     "metadata": {},
     "output_type": "execute_result"
    },
    {
     "data": {
      "image/png": "[encoded data removed]",
      "text/plain": [
       "<Figure size 640x480 with 1 Axes>"
      ]
     },
     "metadata": {},
     "output_type": "display_data"
    }
   ],
   "source": [
    "plt.imshow(cells[0][\"label_render\"])"
   ]
  },
  {
   "cell_type": "code",
   "execution_count": 25,
   "metadata": {
    "id": "VrmXayE3-o92"
   },
   "outputs": [],
   "source": [
    "fs = threshed_chunks.shape\n",
    "sc = tile_size*size\n",
    "full = np.full((fs[0]*sc,fs[1]*sc), 255, dtype=np.uint8)\n",
    " \n",
    "for y in range(fs[0]):\n",
    "  full[max(y*sc-1,0):y*sc+1, :] = 0\n",
    "for x in range(fs[1]):\n",
    "  full[:, max(x*sc-1,0):x*sc+1] = 0"
   ]
  },
  {
   "cell_type": "code",
   "execution_count": 26,
   "metadata": {
    "id": "6GykFNQrEl_m"
   },
   "outputs": [],
   "source": [
    "for cell in cells:\n",
    "  full[cell[\"y\"]*sc:(cell[\"y\"]+1)*sc, cell[\"x\"]*sc:(cell[\"x\"]+1)*sc] = cell[\"render\"]"
   ]
  },
  {
   "cell_type": "code",
   "execution_count": 27,
   "metadata": {
    "id": "NtcWqgmqQ_Yu"
   },
   "outputs": [],
   "source": [
    "for y in range(0, fs[0], 2):\n",
    "  full[max(y*sc-1,0):(y+1)*sc+1, :] -= np.minimum(12, full[max(y*sc-1,0):(y+1)*sc+1, :])\n",
    "for x in range(0, fs[1], 2):\n",
    "  full[:, max(x*sc-1,0):(x+1)*sc+1] -= np.minimum(12, full[:, max(x*sc-1,0):(x+1)*sc+1])\n",
    "\n",
    "for y in range(0, fs[0], 10):\n",
    "  full[max(y*sc-1,0):(y+1)*sc+1, :] -= np.minimum(12, full[max(y*sc-1,0):(y+1)*sc+1, :])\n",
    "for x in range(0, fs[1], 10):\n",
    "  full[:, max(x*sc-1,0):(x+1)*sc+1] -= np.minimum(12, full[:, max(x*sc-1,0):(x+1)*sc+1])"
   ]
  },
  {
   "cell_type": "code",
   "execution_count": 28,
   "metadata": {},
   "outputs": [],
   "source": [
    "labels_full = np.full((fs[0]*sc,fs[1]*sc), 255, dtype=np.uint8)\n",
    "for cell in cells:\n",
    "    labels_full[cell[\"y\"]*sc:(cell[\"y\"]+1)*sc, cell[\"x\"]*sc:(cell[\"x\"]+1)*sc] = cell[\"label_render\"]"
   ]
  },
  {
   "cell_type": "code",
   "execution_count": 29,
   "metadata": {},
   "outputs": [],
   "source": [
    "labels_full_img = Image.fromarray(labels_full)\n",
    "labels_full_img.save(\"fish/labels_full_fish.jpg\")"
   ]
  },
  {
   "cell_type": "code",
   "execution_count": 30,
   "metadata": {
    "id": "jPQCEXyYG6yD"
   },
   "outputs": [],
   "source": [
    "full_img = Image.fromarray(full)"
   ]
  },
  {
   "cell_type": "code",
   "execution_count": 31,
   "metadata": {
    "id": "zza8PpZfP8Dw"
   },
   "outputs": [],
   "source": [
    "font_large = ImageFont.truetype(\"MaisonNeue-Mono.otf\", 192, encoding=\"unic\")"
   ]
  },
  {
   "cell_type": "code",
   "execution_count": 32,
   "metadata": {
    "id": "_sqFisH8IqLF"
   },
   "outputs": [],
   "source": [
    "draw = ImageDraw.Draw(full_img)\n",
    "for y in range(1, fs[0]-1):\n",
    "  draw.text((60, y*sc+30), f\"{y}\", \n",
    "    fill=(0), font=font_large, align=\"left\")\n",
    "  draw.text((full.shape[1]-sc+40, y*sc+40), f\"{y}\", \n",
    "    fill=(0), font=font_large, align=\"left\")\n",
    "for x in range(1, fs[1]-1):\n",
    "  draw.text((x*sc+40, 60), f\"{x}\",\n",
    "    fill=(0), font=font_large, align=\"left\")\n",
    "  draw.text((x*sc+40, full.shape[0]-sc+40), f\"{x}\", \n",
    "    fill=(0), font=font_large, align=\"left\")\n",
    "del draw\n"
   ]
  },
  {
   "cell_type": "code",
   "execution_count": 33,
   "metadata": {
    "id": "7sk4f1K-D1k3"
   },
   "outputs": [],
   "source": [
    "!mkdir -p fish/tiles"
   ]
  },
  {
   "cell_type": "code",
   "execution_count": 34,
   "metadata": {
    "id": "3SresmVx_4po"
   },
   "outputs": [],
   "source": [
    "full_img.save(\"fish/full_fish.jpg\")"
   ]
  },
  {
   "cell_type": "code",
   "execution_count": 35,
   "metadata": {},
   "outputs": [
    {
     "data": {
      "text/plain": [
       "array([[255, 255, 255, ..., 255, 255, 255],\n",
       "       [255, 255, 255, ..., 255, 255, 255],\n",
       "       [255, 255, 255, ..., 255, 255, 255],\n",
       "       ...,\n",
       "       [255, 255, 255, ..., 255, 255, 255],\n",
       "       [255, 255, 255, ..., 255, 255, 255],\n",
       "       [255, 255, 255, ..., 255, 255, 255]], dtype=uint8)"
      ]
     },
     "execution_count": 35,
     "metadata": {},
     "output_type": "execute_result"
    }
   ],
   "source": [
    "np.zeros((full.shape[0], full.shape[1], 4)).shape\n",
    "labels_full"
   ]
  },
  {
   "cell_type": "code",
   "execution_count": 36,
   "metadata": {},
   "outputs": [],
   "source": [
    "font_sm = ImageFont.truetype(\"MaisonNeue-Demi.otf\", 40, encoding=\"unic\")"
   ]
  },
  {
   "cell_type": "code",
   "execution_count": 37,
   "metadata": {
    "id": "Fs-yi6WIwyIR"
   },
   "outputs": [],
   "source": [
    "for idx, cell in enumerate(cells):\n",
    "  tile = np.full((sc+100, sc+100), 255, dtype=np.uint8)\n",
    "  tile[80:80+sc, 80:80+sc] = cell[\"render\"]\n",
    "  img = Image.fromarray(tile)\n",
    "  draw = ImageDraw.Draw(img)\n",
    "  draw.text((15, 15), f\"id:{cell['id']} x:{cell['x']} y:{cell['y']}\", \n",
    "    fill=(0), font=font_sm, spacing=0, align=\"left\")\n",
    "  del draw\n",
    "  num = str(idx).zfill(4)\n",
    "  img.save(f\"fish/tiles/tile_{num}.jpg\")"
   ]
  },
  {
   "cell_type": "code",
   "execution_count": 38,
   "metadata": {
    "colab": {
     "base_uri": "https://localhost:8080/",
     "height": 287
    },
    "id": "bkFhpWHqPsZg",
    "outputId": "ced9fb87-da2c-4767-c0eb-5e8749d559ed"
   },
   "outputs": [
    {
     "data": {
      "text/plain": [
       "<matplotlib.image.AxesImage at 0x7f9520399b40>"
      ]
     },
     "execution_count": 38,
     "metadata": {},
     "output_type": "execute_result"
    },
    {
     "data": {
      "image/png": "[encoded data removed]",
      "text/plain": [
       "<Figure size 640x480 with 1 Axes>"
      ]
     },
     "metadata": {},
     "output_type": "display_data"
    }
   ],
   "source": [
    "plt.imshow(img)"
   ]
  },
  {
   "cell_type": "code",
   "execution_count": 39,
   "metadata": {
    "id": "ITrp17uRCWwn"
   },
   "outputs": [],
   "source": [
    "#!rm fish.zip\n",
    "#!zip -rq fish.zip fish\n",
    "#!rm -r fish\n",
    "#!du -h fish.zip"
   ]
  },
  {
   "cell_type": "code",
   "execution_count": null,
   "metadata": {
    "colab": {
     "base_uri": "https://localhost:8080/"
    },
    "id": "LaTQulSqRHWw",
    "outputId": "f324ccf5-fe59-4920-d7b7-31a3ddf23cec"
   },
   "outputs": [],
   "source": []
  },
  {
   "cell_type": "code",
   "execution_count": null,
   "metadata": {
    "id": "1ZhIN7OyJShm"
   },
   "outputs": [],
   "source": []
  },
  {
   "cell_type": "code",
   "execution_count": null,
   "metadata": {
    "id": "Zk99QX_tJckd"
   },
   "outputs": [],
   "source": []
  }
 ],
 "metadata": {
  "colab": {
   "collapsed_sections": [],
   "provenance": []
  },
  "kernelspec": {
   "display_name": "Python 3 (ipykernel)",
   "language": "python",
   "name": "python3"
  },
  "language_info": {
   "codemirror_mode": {
    "name": "ipython",
    "version": 3
   },
   "file_extension": ".py",
   "mimetype": "text/x-python",
   "name": "python",
   "nbconvert_exporter": "python",
   "pygments_lexer": "ipython3",
   "version": "3.10.4"
  }
 },
 "nbformat": 4,
 "nbformat_minor": 1
}
